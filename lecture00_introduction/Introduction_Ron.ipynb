{
 "cells": [
  {
   "cell_type": "markdown",
   "metadata": {},
   "source": [
    "# <center>**Introduction to Data Science and Data Engineering**</center>\n",
    "\n"
   ]
  },
  {
   "cell_type": "markdown",
   "metadata": {},
   "source": [
    "## Topics to be covered\n",
    "\n",
    "* [Machine learning algorithms and mathematical underpinnings](https://web.stanford.edu/~hastie/ElemStatLearn/printings/ESLII_print12.pdf)\n",
    "* Sample projects\n",
    "* Examples in both [scikit-learn](https://scikit-learn.org/stable/) and [spark](https://spark.apache.org/)\n",
    "* [Python](https://www.python.org/), [NumPy](https://numpy.org/), [Pandas](https://pandas.pydata.org/), [Matplotlib](https://matplotlib.org/)\n",
    "* How real data project works. Agile process, [Git](https://git-scm.com/), CI/CD, DevOps, Measurement\n",
    "* Prep for job interview"
   ]
  },
  {
   "cell_type": "markdown",
   "metadata": {},
   "source": [
    "## Buzzwords\n",
    "\n",
    "* AI\n",
    "* Machine Learning\n",
    "* Data Science\n",
    "* Data Engineering\n",
    "* Data Analysis\n",
    "* Deep Learning\n",
    "* ...."
   ]
  },
  {
   "cell_type": "markdown",
   "metadata": {},
   "source": [
    "![ai_ml_dl](./pics/ai_ml_dl.png)"
   ]
  },
  {
   "cell_type": "markdown",
   "metadata": {},
   "source": [
    "## Data Science v.s. Data Engineer\n",
    "\n",
    "![data_project_flow](./pics/data_project_flow.jpeg)"
   ]
  },
  {
   "cell_type": "markdown",
   "metadata": {},
   "source": [
    "* Data engineer: step 1 and step 2\n",
    "* Data scientist: step 3 and step 4\n",
    "* Ultimate goal is to leverage model to make prediction, get insight out of data\n",
    "* 80/20 rules\n",
    "  * 80% time are spent on data engineering\n",
    "  * 80% chance (or even more) you do not need a new model"
   ]
  },
  {
   "cell_type": "markdown",
   "metadata": {},
   "source": [
    "## How to cover all those topics in weeks\n",
    "\n",
    "> 道生一，一生二，二生三，三生万物\n",
    "\n",
    "* **道**：科学规律 (Science)\n",
    "* **一**：机器学习方法论 (Machine Learning Methodology)\n",
    "* **二**：分类和回归 (Classification and Regression)\n",
    "* **三**：模型，策略，最优化 (Model, Strategy, Optimisation)\n",
    "* **万**：算法 (Algorithms)"
   ]
  },
  {
   "cell_type": "markdown",
   "metadata": {},
   "source": [
    "## Technology stack and why"
   ]
  },
  {
   "cell_type": "markdown",
   "metadata": {},
   "source": [
    "### 1. Programming language trend\n",
    "\n",
    "|![python_trend](./pics/trends/python_trend.png)|![r_trend](./pics/trends/r_trend.png)|\n",
    "|-|-|\n",
    "|![scala_trend](./pics/trends/scala_trend.png)|![python_trend](./pics/trends/java_trend.png)|"
   ]
  },
  {
   "cell_type": "markdown",
   "metadata": {},
   "source": [
    "#### 2019 Stackoverflow Survey\n",
    "\n",
    "|![so_lang_ranking](./pics/so_lang_ranking.png)|![so_type_salary](./pics/so_type_salary.png)|\n",
    "|-|-|\n",
    "|![salary_language](./pics/so_salary_language.svg)|![salary_devtype](./pics/so_salary_devtype.svg)|"
   ]
  },
  {
   "cell_type": "markdown",
   "metadata": {},
   "source": [
    "### 2. scikit-learn ecosystem\n",
    "\n",
    "|![sklearn_trend.png](./pics/trends/sklearn_trend.png)|![numpy_trend](./pics/trends/numpy_trend.png)|\n",
    "|-|-|\n",
    "|![pandas_trend](./pics/trends/pandas_trend.png)|![matplotlib_trend](./pics/trends/matplotlib_trend.png)|"
   ]
  },
  {
   "cell_type": "markdown",
   "metadata": {},
   "source": [
    "### 3. Apache Spark big data platform\n",
    "\n",
    "> **Apache Spark™ is a unified analytics engine for large-scale data processing**\n",
    "\n",
    "![why_spark](./pics/why_spark.png)"
   ]
  },
  {
   "cell_type": "markdown",
   "metadata": {},
   "source": [
    "### Apache Spark v.s. Hadoop\n",
    "\n",
    "|![spark_trend.png](./pics/trends/spark_trend.png)|![hadoop_trend](./pics/trends/hadoop_trend.png)|\n",
    "|-|-|\n",
    "|![spark_sql_trend](./pics/trends/spark_sql_trend.png)|![hive_trend](./pics/trends/hive_trend.png)|"
   ]
  },
  {
   "cell_type": "markdown",
   "metadata": {},
   "source": [
    "### Quote from Facebook\n",
    "\n",
    "#### [Apache Spark @Scale: A 60 TB+ production use case](https://engineering.fb.com/core-data/apache-spark-scale-a-60-tb-production-use-case/)\n",
    "\n",
    "> ... we showed that Spark could <font color=red>**reliably shuffle and sort 90 TB+ intermediate data and run 250,000 tasks in a single job**</font>. The Spark-based pipeline produced <font color=red>**significant performance improvements (4.5-6x CPU, 3-4x resource reservation, and ~5x latency)**</font> compared with the old Hive-based pipeline, and it has been running <font color=red>**in production for several months**</font>. While this post details our most challenging use case for Spark, a growing number of customer teams have deployed Spark workloads into production. <font color=red>**Performance, maintainability, and flexibility**</font> are the strengths that continue to drive more use cases to Spark. Facebook is excited to be a part of the Spark open source community and will <font color=red>**work together to develop Spark toward its full potential**</font>."
   ]
  },
  {
   "cell_type": "markdown",
   "metadata": {},
   "source": [
    "|![hive_vs_spark_cpu](./pics/hive_vs_spark_cpu.jpeg)|![hive_vs_spark_latency](./pics/hive_vs_spark_latency.jpeg)|\n",
    "|-|-|"
   ]
  },
  {
   "cell_type": "markdown",
   "metadata": {},
   "source": [
    "## How the courses are organized\n",
    "\n",
    "### 0. Introduction\n",
    "\n",
    "### 1. Just enough basics before start\n",
    "\n",
    "### 2~7. Machine learning algorithms\n",
    "\n",
    "   * Cover both regression and classification\n",
    "   * Explain math under the hood in human language\n",
    "   * Variations in the same family\n",
    "   * Example with scikit-learn or Spark ML\n",
    "   * Explain programming details inline\n",
    "\n",
    "### 7~8. Prepar for job interview\n",
    "\n",
    "*NOTE: everything is code shared via github*"
   ]
  },
  {
   "cell_type": "markdown",
   "metadata": {},
   "source": [
    "<hr/>\n",
    "\n",
    "## Univariate Linear Regression"
   ]
  },
  {
   "cell_type": "markdown",
   "metadata": {},
   "source": [
    "### 0. In a perfect world"
   ]
  },
  {
   "cell_type": "code",
   "execution_count": 27,
   "metadata": {},
   "outputs": [
    {
     "data": {
      "text/plain": [
       "[<matplotlib.lines.Line2D at 0x13b81ef50>]"
      ]
     },
     "execution_count": 27,
     "metadata": {},
     "output_type": "execute_result"
    },
    {
     "data": {
      "image/png": "[encoded data removed]",
      "text/plain": [
       "<Figure size 432x288 with 1 Axes>"
      ]
     },
     "metadata": {
      "needs_background": "light"
     },
     "output_type": "display_data"
    }
   ],
   "source": [
    "import numpy as np\n",
    "import matplotlib.pyplot as plt\n",
    "\n",
    "x = np.array([3, 4])\n",
    "y = np.array([7, 9])\n",
    "plt.plot(x, y, '*')\n",
    "\n",
    "x = np.arange(0, 10, 0.1)\n",
    "y = 2* x + 1\n",
    "plt.plot(x, y, '-')"
   ]
  },
  {
   "cell_type": "markdown",
   "metadata": {},
   "source": [
    "### 1. In a real world"
   ]
  },
  {
   "cell_type": "code",
   "execution_count": 21,
   "metadata": {
    "scrolled": true
   },
   "outputs": [
    {
     "data": {
      "text/plain": [
       "[<matplotlib.lines.Line2D at 0x13b381b50>]"
      ]
     },
     "execution_count": 21,
     "metadata": {},
     "output_type": "execute_result"
    },
    {
     "data": {
      "image/png": "[encoded data removed]",
      "text/plain": [
       "<Figure size 432x288 with 1 Axes>"
      ]
     },
     "metadata": {
      "needs_background": "light"
     },
     "output_type": "display_data"
    }
   ],
   "source": [
    "n = 10\n",
    "mu, sigma = 0, 4\n",
    "x = np.linspace(0, 50, n)\n",
    "e = np.random.normal(mu, sigma, n)\n",
    "\n",
    "y = 2 * x + 1 + e\n",
    "plt.plot(x, y, '*')\n",
    "\n",
    "y_fit = 2 * x + 1\n",
    "plt.plot(x, y_fit, '-')"
   ]
  },
  {
   "cell_type": "markdown",
   "metadata": {},
   "source": [
    "### 2. An example in [scikit-learn](https://scikit-learn.org/stable/)"
   ]
  },
  {
   "cell_type": "code",
   "execution_count": 5,
   "metadata": {},
   "outputs": [
    {
     "data": {
      "text/plain": [
       "<matplotlib.collections.PathCollection at 0x13a832110>"
      ]
     },
     "execution_count": 5,
     "metadata": {},
     "output_type": "execute_result"
    },
    {
     "data": {
      "image/png": "[encoded data removed]",
      "text/plain": [
       "<Figure size 432x288 with 1 Axes>"
      ]
     },
     "metadata": {
      "needs_background": "light"
     },
     "output_type": "display_data"
    }
   ],
   "source": [
    "import pandas\n",
    "from sklearn.model_selection import train_test_split\n",
    "from sklearn.linear_model import LinearRegression\n",
    "\n",
    "dataset = pandas.read_csv('data/salary.csv')\n",
    "x = dataset.iloc[:, :-1].values\n",
    "y = dataset.iloc[:, 1].values\n",
    "\n",
    "plt.scatter(x, y, color = 'red')"
   ]
  },
  {
   "cell_type": "code",
   "execution_count": 6,
   "metadata": {
    "scrolled": true
   },
   "outputs": [
    {
     "data": {
      "image/png": "[encoded data removed]",
      "text/plain": [
       "<Figure size 432x288 with 1 Axes>"
      ]
     },
     "metadata": {
      "needs_background": "light"
     },
     "output_type": "display_data"
    }
   ],
   "source": [
    "linearRegressor = LinearRegression()\n",
    "# train the model\n",
    "linearRegressor.fit(x, y)\n",
    "\n",
    "prediction = linearRegressor.predict(x)\n",
    "\n",
    "plt.scatter(x, y, color = 'red')\n",
    "plt.plot(x, prediction, color = 'blue')\n",
    "plt.title('Salary vs Experience (Training set)')\n",
    "plt.xlabel('Years of Experience')\n",
    "plt.ylabel('Salary')\n",
    "plt.show()"
   ]
  },
  {
   "cell_type": "code",
   "execution_count": 7,
   "metadata": {
    "scrolled": true
   },
   "outputs": [
    {
     "name": "stdout",
     "output_type": "stream",
     "text": [
      "[9449.96232146]\n",
      "25792.200198668696\n"
     ]
    }
   ],
   "source": [
    "print(linearRegressor.coef_)\n",
    "print(linearRegressor.intercept_)"
   ]
  },
  {
   "cell_type": "markdown",
   "metadata": {},
   "source": [
    "### 3. Same example in [Spark MLlib](https://spark.apache.org/mllib/)"
   ]
  },
  {
   "cell_type": "code",
   "execution_count": 11,
   "metadata": {},
   "outputs": [],
   "source": [
    "from pyspark.sql import SparkSession\n",
    "from pyspark.ml.regression import LinearRegression\n",
    "from pyspark.ml.feature import VectorAssembler\n",
    "\n",
    "spark = SparkSession.builder.appName(\"introduction\").getOrCreate()\n",
    "df = spark.read.csv('data/salary.csv', header=True, inferSchema=True).cache()\n",
    "# df.show()"
   ]
  },
  {
   "cell_type": "code",
   "execution_count": 12,
   "metadata": {},
   "outputs": [],
   "source": [
    "vectorAssembler = VectorAssembler(inputCols = ['years_experience'], outputCol = 'features')\n",
    "df_train = vectorAssembler.transform(df)\n",
    "# df_train.show()"
   ]
  },
  {
   "cell_type": "code",
   "execution_count": 13,
   "metadata": {},
   "outputs": [
    {
     "name": "stdout",
     "output_type": "stream",
     "text": [
      "Coefficients: [9449.962321455081]\n",
      "Intercept: 25792.20019866867\n"
     ]
    }
   ],
   "source": [
    "lr = LinearRegression(featuresCol = 'features', labelCol='salary')\n",
    "# train the model\n",
    "lr_model = lr.fit(df_train)\n",
    "print(\"Coefficients: \" + str(lr_model.coefficients))\n",
    "print(\"Intercept: \" + str(lr_model.intercept))"
   ]
  },
  {
   "cell_type": "code",
   "execution_count": 14,
   "metadata": {},
   "outputs": [
    {
     "name": "stdout",
     "output_type": "stream",
     "text": [
      "+----------------+-------+--------+------------------+\n",
      "|years_experience| salary|features|        prediction|\n",
      "+----------------+-------+--------+------------------+\n",
      "|             1.1|39343.0|   [1.1]| 36187.15875226926|\n",
      "|             1.3|46205.0|   [1.3]|38077.151216560276|\n",
      "|             1.5|37731.0|   [1.5]|39967.143680851295|\n",
      "|             2.0|43525.0|   [2.0]| 44692.12484157883|\n",
      "|             2.2|39891.0|   [2.2]| 46582.11730586985|\n",
      "|             2.9|56642.0|   [2.9]|  53197.0909308884|\n",
      "|             3.0|60150.0|   [3.0]| 54142.08716303391|\n",
      "|             3.2|54445.0|   [3.2]| 56032.07962732493|\n",
      "|             3.2|64445.0|   [3.2]| 56032.07962732493|\n",
      "|             3.7|57189.0|   [3.7]| 60757.06078805248|\n",
      "|             3.9|63218.0|   [3.9]| 62647.05325234348|\n",
      "|             4.0|55794.0|   [4.0]| 63592.04948448899|\n",
      "|             4.0|56957.0|   [4.0]| 63592.04948448899|\n",
      "|             4.1|57081.0|   [4.1]|  64537.0457166345|\n",
      "|             4.5|61111.0|   [4.5]| 68317.03064521654|\n",
      "|             4.9|67938.0|   [4.9]| 72097.01557379858|\n",
      "|             5.1|66029.0|   [5.1]| 73987.00803808958|\n",
      "|             5.3|83088.0|   [5.3]|  75877.0005023806|\n",
      "|             5.9|81363.0|   [5.9]| 81546.97789525366|\n",
      "|             6.0|93940.0|   [6.0]| 82491.97412739915|\n",
      "+----------------+-------+--------+------------------+\n",
      "only showing top 20 rows\n",
      "\n"
     ]
    }
   ],
   "source": [
    "# predict\n",
    "df_prediction = lr_model.transform(df_train)\n",
    "df_prediction.show()"
   ]
  },
  {
   "cell_type": "markdown",
   "metadata": {},
   "source": [
    "<hr/>\n",
    "\n",
    "### With less than 10 lines of code, we've just implemented out first machine learning project in 2 most popular libraries!!!\n",
    "\n",
    "0. Load the data\n",
    "1. Choose a model. Assume salary is linear to years of experience \n",
    "2. Train (Fit)\n",
    "3. Get the  model\n",
    "\n",
    "### Now we can predict salary given years of experience!!!"
   ]
  },
  {
   "cell_type": "markdown",
   "metadata": {},
   "source": [
    "<hr/>\n",
    "\n",
    "## Homework. Environment setup\n",
    "\n",
    "0. Install latest Python 3.7.x\n",
    "1. Install git, create github account\n",
    "2. Clone git repository, run make command to setup Python venv for this course automatically\n",
    "3. Run Jupyter notebook and load learning material\n",
    "4. Play with the sample code and try your own"
   ]
  }
 ],
 "metadata": {
  "kernelspec": {
   "display_name": "Python 3",
   "language": "python",
   "name": "python3"
  },
  "language_info": {
   "codemirror_mode": {
    "name": "ipython",
    "version": 3
   },
   "file_extension": ".py",
   "mimetype": "text/x-python",
   "name": "python",
   "nbconvert_exporter": "python",
   "pygments_lexer": "ipython3",
   "version": "3.7.4"
  }
 },
 "nbformat": 4,
 "nbformat_minor": 2
}
